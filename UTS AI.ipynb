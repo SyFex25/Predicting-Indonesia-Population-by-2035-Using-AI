{
 "cells": [
  {
   "cell_type": "code",
   "execution_count": 1,
   "id": "15e23c38",
   "metadata": {},
   "outputs": [],
   "source": [
    "import pandas as pd\n",
    "import matplotlib.pyplot as plt\n",
    "%matplotlib inline\n",
    "import numpy as np\n",
    "from sklearn.linear_model import LinearRegression\n",
    "from sklearn.model_selection import train_test_split"
   ]
  },
  {
   "cell_type": "markdown",
   "id": "41b97412",
   "metadata": {},
   "source": [
    "### Data yang digunakan"
   ]
  },
  {
   "cell_type": "code",
   "execution_count": 2,
   "id": "f66d1dad",
   "metadata": {},
   "outputs": [
    {
     "data": {
      "text/html": [
       "<div>\n",
       "<style scoped>\n",
       "    .dataframe tbody tr th:only-of-type {\n",
       "        vertical-align: middle;\n",
       "    }\n",
       "\n",
       "    .dataframe tbody tr th {\n",
       "        vertical-align: top;\n",
       "    }\n",
       "\n",
       "    .dataframe thead th {\n",
       "        text-align: right;\n",
       "    }\n",
       "</style>\n",
       "<table border=\"1\" class=\"dataframe\">\n",
       "  <thead>\n",
       "    <tr style=\"text-align: right;\">\n",
       "      <th></th>\n",
       "      <th>Nation</th>\n",
       "      <th>1980</th>\n",
       "      <th>1981</th>\n",
       "      <th>1982</th>\n",
       "      <th>1983</th>\n",
       "      <th>1984</th>\n",
       "      <th>1985</th>\n",
       "      <th>1986</th>\n",
       "      <th>1987</th>\n",
       "      <th>1988</th>\n",
       "      <th>...</th>\n",
       "      <th>2001</th>\n",
       "      <th>2002</th>\n",
       "      <th>2003</th>\n",
       "      <th>2004</th>\n",
       "      <th>2005</th>\n",
       "      <th>2006</th>\n",
       "      <th>2007</th>\n",
       "      <th>2008</th>\n",
       "      <th>2009</th>\n",
       "      <th>2010</th>\n",
       "    </tr>\n",
       "  </thead>\n",
       "  <tbody>\n",
       "    <tr>\n",
       "      <th>201</th>\n",
       "      <td>Indonesia</td>\n",
       "      <td>151.0244</td>\n",
       "      <td>154.13906</td>\n",
       "      <td>157.27963</td>\n",
       "      <td>160.44071</td>\n",
       "      <td>163.61264</td>\n",
       "      <td>166.77028</td>\n",
       "      <td>169.89552</td>\n",
       "      <td>173.01546</td>\n",
       "      <td>176.16566</td>\n",
       "      <td>...</td>\n",
       "      <td>217.83628</td>\n",
       "      <td>220.97191</td>\n",
       "      <td>223.06967</td>\n",
       "      <td>226.00413</td>\n",
       "      <td>228.89575</td>\n",
       "      <td>231.82024</td>\n",
       "      <td>234.694</td>\n",
       "      <td>237.51236</td>\n",
       "      <td>240.27152</td>\n",
       "      <td>242.96834</td>\n",
       "    </tr>\n",
       "  </tbody>\n",
       "</table>\n",
       "<p>1 rows × 32 columns</p>\n",
       "</div>"
      ],
      "text/plain": [
       "        Nation      1980       1981       1982       1983       1984  \\\n",
       "201  Indonesia  151.0244  154.13906  157.27963  160.44071  163.61264   \n",
       "\n",
       "          1985       1986       1987       1988  ...       2001       2002  \\\n",
       "201  166.77028  169.89552  173.01546  176.16566  ...  217.83628  220.97191   \n",
       "\n",
       "          2003       2004       2005       2006     2007       2008  \\\n",
       "201  223.06967  226.00413  228.89575  231.82024  234.694  237.51236   \n",
       "\n",
       "          2009       2010  \n",
       "201  240.27152  242.96834  \n",
       "\n",
       "[1 rows x 32 columns]"
      ]
     },
     "execution_count": 2,
     "metadata": {},
     "output_type": "execute_result"
    }
   ],
   "source": [
    "# Membaca data\n",
    "df = pd.read_csv('populationbycountry.csv')\n",
    "indonesia = df.loc[df['Nation'] == 'Indonesia']\n",
    "indonesia"
   ]
  },
  {
   "cell_type": "code",
   "execution_count": 3,
   "id": "3c416566",
   "metadata": {},
   "outputs": [],
   "source": [
    "# Mengambil data populasi untuk negara Indonesia\n",
    "population = df[df['Nation'] == 'Indonesia'].iloc[:, 1:].values.flatten()\n",
    "\n",
    "# Mengubah isi data menjadi bentuk float\n",
    "population = population.astype(float)"
   ]
  },
  {
   "cell_type": "code",
   "execution_count": 4,
   "id": "3007d56d",
   "metadata": {},
   "outputs": [],
   "source": [
    "# Membuat X dan y untuk digunakan dalam Regresi Linear\n",
    "X = np.arange(1980, 2011).reshape(-1, 1)\n",
    "y = population.reshape(-1, 1)"
   ]
  },
  {
   "cell_type": "code",
   "execution_count": 5,
   "id": "65bfbf1c",
   "metadata": {},
   "outputs": [
    {
     "data": {
      "text/plain": [
       "array([[1980],\n",
       "       [1981],\n",
       "       [1982],\n",
       "       [1983],\n",
       "       [1984],\n",
       "       [1985],\n",
       "       [1986],\n",
       "       [1987],\n",
       "       [1988],\n",
       "       [1989],\n",
       "       [1990],\n",
       "       [1991],\n",
       "       [1992],\n",
       "       [1993],\n",
       "       [1994],\n",
       "       [1995],\n",
       "       [1996],\n",
       "       [1997],\n",
       "       [1998],\n",
       "       [1999],\n",
       "       [2000],\n",
       "       [2001],\n",
       "       [2002],\n",
       "       [2003],\n",
       "       [2004],\n",
       "       [2005],\n",
       "       [2006],\n",
       "       [2007],\n",
       "       [2008],\n",
       "       [2009],\n",
       "       [2010]])"
      ]
     },
     "execution_count": 5,
     "metadata": {},
     "output_type": "execute_result"
    }
   ],
   "source": [
    "# Data X\n",
    "X"
   ]
  },
  {
   "cell_type": "code",
   "execution_count": 6,
   "id": "00712b5e",
   "metadata": {},
   "outputs": [
    {
     "data": {
      "text/plain": [
       "array([[151.0244 ],\n",
       "       [154.13906],\n",
       "       [157.27963],\n",
       "       [160.44071],\n",
       "       [163.61264],\n",
       "       [166.77028],\n",
       "       [169.89552],\n",
       "       [173.01546],\n",
       "       [176.16566],\n",
       "       [179.33997],\n",
       "       [182.51628],\n",
       "       [185.70794],\n",
       "       [188.90468],\n",
       "       [192.09324],\n",
       "       [195.3278 ],\n",
       "       [198.63437],\n",
       "       [202.01216],\n",
       "       [205.27672],\n",
       "       [208.47748],\n",
       "       [211.6872 ],\n",
       "       [214.67661],\n",
       "       [217.83628],\n",
       "       [220.97191],\n",
       "       [223.06967],\n",
       "       [226.00413],\n",
       "       [228.89575],\n",
       "       [231.82024],\n",
       "       [234.694  ],\n",
       "       [237.51236],\n",
       "       [240.27152],\n",
       "       [242.96834]])"
      ]
     },
     "execution_count": 6,
     "metadata": {},
     "output_type": "execute_result"
    }
   ],
   "source": [
    "# Data y\n",
    "y"
   ]
  },
  {
   "cell_type": "markdown",
   "id": "18b89420",
   "metadata": {},
   "source": [
    "### Model Machine Learning"
   ]
  },
  {
   "cell_type": "code",
   "execution_count": 7,
   "id": "8bb403d5",
   "metadata": {},
   "outputs": [
    {
     "data": {
      "text/plain": [
       "LinearRegression()"
      ]
     },
     "execution_count": 7,
     "metadata": {},
     "output_type": "execute_result"
    }
   ],
   "source": [
    "# Model Regresi Linear\n",
    "model = LinearRegression()\n",
    "model.fit(X, y)"
   ]
  },
  {
   "cell_type": "code",
   "execution_count": 8,
   "id": "8189a2eb",
   "metadata": {},
   "outputs": [
    {
     "data": {
      "text/plain": [
       "array([[3.10368468]])"
      ]
     },
     "execution_count": 8,
     "metadata": {},
     "output_type": "execute_result"
    }
   ],
   "source": [
    "# Kenaikan penduduk tiap tahun\n",
    "model.coef_"
   ]
  },
  {
   "cell_type": "code",
   "execution_count": 9,
   "id": "70411161",
   "metadata": {},
   "outputs": [
    {
     "name": "stdout",
     "output_type": "stream",
     "text": [
      "Population in 2011: 247.96 million\n",
      "Population in 2012: 251.08 million\n",
      "Population in 2013: 254.19 million\n",
      "Population in 2014: 257.31 million\n",
      "Population in 2015: 260.42 million\n",
      "Population in 2016: 263.54 million\n",
      "Population in 2017: 266.65 million\n",
      "Population in 2018: 269.76 million\n",
      "Population in 2019: 272.88 million\n",
      "Population in 2020: 275.99 million\n",
      "Population in 2021: 279.11 million\n",
      "Population in 2022: 282.22 million\n",
      "Population in 2023: 285.34 million\n",
      "Population in 2024: 288.45 million\n",
      "Population in 2025: 291.56 million\n",
      "Population in 2026: 294.68 million\n",
      "Population in 2027: 297.79 million\n",
      "Population in 2028: 300.91 million\n",
      "Population in 2029: 304.02 million\n",
      "Population in 2030: 307.14 million\n",
      "Population in 2031: 310.25 million\n",
      "Population in 2032: 313.36 million\n",
      "Population in 2033: 316.48 million\n",
      "Population in 2034: 319.59 million\n",
      "Population in 2035: 322.71 million\n"
     ]
    },
    {
     "data": {
      "image/png": "[encoded data removed]",
      "text/plain": [
       "<Figure size 640x480 with 1 Axes>"
      ]
     },
     "metadata": {},
     "output_type": "display_data"
    },
    {
     "name": "stdout",
     "output_type": "stream",
     "text": [
      "Model score: 0.9989959088454314\n"
     ]
    }
   ],
   "source": [
    "# Data di bagi menjadi data latih dan data uji\n",
    "X_train, X_test, y_train, y_test = train_test_split(X, y, test_size=0.2, random_state=42)\n",
    "\n",
    "# Data di fit untuk melakukan prediksi dengan Regresi Linear\n",
    "model = LinearRegression()\n",
    "model.fit(X_train, y_train)\n",
    "\n",
    "# Prediksi populasi\n",
    "y_pred = model.predict(X_test)\n",
    "\n",
    "# Prediks populasi tahun 2011 sampai 2035\n",
    "X_pred = np.arange(2011, 2036).reshape(-1, 1)\n",
    "y_pred = model.predict(X_pred)\n",
    "\n",
    "# Print jumlah populasi yang di prediksikan\n",
    "for year, pop in zip(X_pred.flatten(), y_pred.flatten()): # zip untuk menggabungkan dua array\n",
    "    print(f\"Population in {year}: {pop:.2f} million\")     # menjadi satu\n",
    "\n",
    "# Plot SCatter\n",
    "plt.scatter(X_train.flatten(), y_train.flatten(), label='Training Data')\n",
    "plt.scatter(X_test.flatten(), y_test.flatten(), label='Testing Data')\n",
    "\n",
    "# Plot data yang di prediksi\n",
    "plt.plot(X_pred.flatten(), y_pred.flatten(), label='Predicted Data', color='red')\n",
    "\n",
    "\n",
    "plt.xlabel(\"Year\")\n",
    "plt.ylabel(\"Population (million)\")\n",
    "plt.title(\"Population of Indonesia from 1980 to 2035\")\n",
    "plt.legend()\n",
    "plt.show()\n",
    "\n",
    "# Print keakuratan model Machine Learning\n",
    "print(\"Model score:\", model.score(X_test, y_test))"
   ]
  },
  {
   "cell_type": "code",
   "execution_count": 10,
   "id": "ba81780f",
   "metadata": {},
   "outputs": [
    {
     "data": {
      "image/png": "[encoded data removed]",
      "text/plain": [
       "<Figure size 640x480 with 1 Axes>"
      ]
     },
     "metadata": {},
     "output_type": "display_data"
    }
   ],
   "source": [
    "colors = ['#5DA5DA', '#FAA43A', '#60BD68', '#F17CB0', '#B2912F', '#B276B2', '#DECF3F', '#F15854', '#4D4D4D', '#E6F5D0',\n",
    "          '#FFC8B4', '#A4D4FF', '#FDBF6F', '#D7D7D7', '#B0E0E6', '#E7C0EC', '#CCFFCC', '#B4EEB4', '#C0C0C0', '#FFFFB3',\n",
    "          '#E6BEFF', '#FFD8B1', '#C2DFFF', '#F0E68C', '#FFFACD']\n",
    "\n",
    "plt.bar(X_pred.flatten(), y_pred.flatten(), color=colors)\n",
    "\n",
    "plt.xlabel(\"Year\")\n",
    "plt.ylabel(\"Population (million)\")\n",
    "plt.title(\"Predicted Population of Indonesia from 2011 to 2035\")\n",
    "plt.show()"
   ]
  }
 ],
 "metadata": {
  "kernelspec": {
   "display_name": "Python 3 (ipykernel)",
   "language": "python",
   "name": "python3"
  },
  "language_info": {
   "codemirror_mode": {
    "name": "ipython",
    "version": 3
   },
   "file_extension": ".py",
   "mimetype": "text/x-python",
   "name": "python",
   "nbconvert_exporter": "python",
   "pygments_lexer": "ipython3",
   "version": "3.9.13"
  }
 },
 "nbformat": 4,
 "nbformat_minor": 5
}
